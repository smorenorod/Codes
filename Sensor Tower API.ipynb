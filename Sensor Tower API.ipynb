{
 "cells": [
  {
   "cell_type": "code",
   "execution_count": null,
   "metadata": {},
   "outputs": [],
   "source": [
    "#pip install ipywidgets"
   ]
  },
  {
   "cell_type": "code",
   "execution_count": 2,
   "metadata": {},
   "outputs": [],
   "source": [
    "import pandas as pd\n",
    "import requests\n",
    "import json\n",
    "import pygsheets\n",
    "import ipywidgets as widgets\n",
    "from datetime import date, timedelta"
   ]
  },
  {
   "cell_type": "code",
   "execution_count": 3,
   "metadata": {},
   "outputs": [
    {
     "data": {
      "application/vnd.jupyter.widget-view+json": {
       "model_id": "b9c1e9b4ba8f4f26bc2f6996e0040809",
       "version_major": 2,
       "version_minor": 0
      },
      "text/plain": [
       "Text(value='2023-01-22', description='Start Date:', placeholder='Type something')"
      ]
     },
     "metadata": {},
     "output_type": "display_data"
    }
   ],
   "source": [
    "today = date.today()\n",
    "yeterday = date.today() - timedelta(days=1)\n",
    "\n",
    "start_date=widgets.Text(\n",
    "    value=yeterday.strftime(\"%Y-%m-%d\"),\n",
    "    placeholder='Type something',\n",
    "    description='Start Date:',\n",
    "    disabled=False\n",
    ")\n",
    "start_date"
   ]
  },
  {
   "cell_type": "code",
   "execution_count": 19,
   "metadata": {},
   "outputs": [
    {
     "data": {
      "application/vnd.jupyter.widget-view+json": {
       "model_id": "470d80b74f7946eb877a8a167d771e51",
       "version_major": 2,
       "version_minor": 0
      },
      "text/plain": [
       "Text(value='2023-01-23', description='end_date:', placeholder='Type something')"
      ]
     },
     "metadata": {},
     "output_type": "display_data"
    }
   ],
   "source": [
    "end_date=widgets.Text(\n",
    "    value=today.strftime(\"%Y-%m-%d\"),\n",
    "    placeholder='Type something',\n",
    "    description='end_date:',\n",
    "    disabled=False\n",
    ")\n",
    "end_date"
   ]
  },
  {
   "cell_type": "code",
   "execution_count": 5,
   "metadata": {},
   "outputs": [],
   "source": [
    "#this is fixed for this GO apps codes: com.dreamgames.royalmatch, com.gamegos.mobile.manorcafe,com.matchington.mansion\n",
    "#and for this countries: AE,CAO,CAR,CAT,CAU,CAZ,CBB,CBE,CBG,CBH,CBM,CBO,CBR,CBY,CCA,CCH,CCL,CCO,CCR,CCY,CCZ,CDE,CDK,CDO,CDZ,CEC,CEE,CEG,CES,CFI,CFR,CGB,CGE,CGH,CGR,CGT,CHK,CHR,CHU,CID,CIE,CIL,CIN,CIT,CJP,CKE,CKH,CKR,CKW,CKZ,CLB,CLK,CLT,CLU,CLV,CMG,CMO,CMT,CMX,CMY,CNG,CNI,CNL,CNO,CNZ,COM,CPA,CPE,CPH,CPK,CPL,CPT,CPY,CQA,CRO,CRS,CRU,CSA,CSE,CSG,CSI,CSK,CSV,CTH,CTN,CTR,CTW,CUA,CUS,CUY,CUZ,CVE,CVN,CZA\n",
    "\n",
    "APP_ANDROID_INFO = 'https://api.sensortower.com/v1/android/sales_report_estimates?app_ids=com.dreamgames.royalmatch\\\n",
    "                    %2Ccom.gamegos.mobile.manorcafe%2Ccom.matchington.\\\n",
    "                    mansion&countries=AE%2CAO%2CAR%2CAT%2CAU%2CAZ%2CBB%2CBE%2CBG%2CBH%2CBM%2CBO%2CBR%2CBY%2CCA%2CCH%2CCL%2CCO%2CCR%2CCY%2CCZ%2CDE%2CDK%2CDO%2CDZ%2CEC%2CEE%2CEG%2CES%2CFI%2CFR%2CGB%2CGE%2CGH%2CGR%2CGT%2CHK%2CHR%2CHU%2CID%2CIE%2CIL%2CIN%2CIT%2CJP%2CKE%2CKH%2CKR%2CKW%2CKZ%2CLB%2CLK%2CLT%2CLU%2CLV%2CMG%2CMO%2CMT%2CMX%2CMY%2CNG%2CNI%2CNL%2CNO%2CNZ%2COM%2CPA%2CPE%2CPH%2CPK%2CPL%2CPT%2CPY%2CQA%2CRO%2CRS%2CRU%2CSA%2CSE%2CSG%2CSI%2CSK%2CSV%2CTH%2CTN%2CTR%2CTW%2CUA%2CUS%2CUY%2CUZ%2CVE%2CVN%2CZA&date\\\n",
    "                    _granularity=daily&start_date='+start_date.value+'&end_date='+end_date.value+'&auth_token=ST0_csRybKRh_Jpx4TNtK2yZ7ei'"
   ]
  },
  {
   "cell_type": "code",
   "execution_count": 6,
   "metadata": {},
   "outputs": [],
   "source": [
    "#this is fixed for this iOS apps codes: 1195621598,1216575026,1228655110,1358742711,201482155847,201570403223\n",
    "#and for this countries: AE,AO,AR,AT,AU,AZ,BB,BE,BG,BM,BO,BR,BY,CA,CH,CL,CN,CO,CR,CZ,DE,DK,DO,DZ,EC,EE,EG,ES,FI,FR,GB,GH,GR,GT,HK,HR,HU,ID,IE,IL,IN,IT,JP,KE,KH,KR,KW,KZ,LB,LK,LT,LU,LV,MG,MO,MX,MY,NG,NI,NL,NO,NZ,OM,PA,PE,PH,PK,PL,PT,PY,QA,RO,RU,SA,SE,SG,SI,SK,SV,TH,TN,TR,TW,UA,US,UY,UZ,VE,VN,ZA,BH,CY,GE,MT,RS,WW\n",
    "\n",
    "APP_IOS_INFO ='https://api.sensortower.com/v1/ios/sales_report_estimates?app_ids=\\\n",
    "                1195621598%2C1216575026%2C1228655110%2C1358742711%2C%201482155847%2C%201570403223%2C&countries\\\n",
    "                =AE%2CAO%2CAR%2CAT%2CAU%2CAZ%2CBB%2CBE%2CBG%2CBM%2CBO%2CBR%2CBY%2CCA%2CCH%2CCL%2CCN%2CCO%2CCR%2CCZ%2CDE%2CDK%2CDO%2CDZ%2CEC%2CEE%2CEG%2CES%2CFI%2CFR%2CGB%2CGH%2CGR%2CGT%2CHK%2CHR%2CHU%2CID%2CIE%2CIL%2CIN%2CIT%2CJP%2CKE%2CKH%2CKR%2CKW%2CKZ%2CLB%2CLK%2CLT%2CLU%2CLV%2CMG%2CMO%2CMX%2CMY%2CNG%2CNI%2CNL%2CNO%2CNZ%2COM%2CPA%2CPE%2CPH%2CPK%2CPL%2CPT%2CPY%2CQA%2CRO%2CRU%2CSA%2CSE%2CSG%2CSI%2CSK%2CSV%2CTH%2CTN%2CTR%2CTW%2CUA%2CUS%2CUY%2CUZ%2CVE%2CVN%2CZA%2CBH%2CCY%2CGE%2CMT%2CRS%2CWW%2C&date\\\n",
    "                _granularity=daily&start_date='+start_date.value+'&end_date='+end_date.value+'&auth_token=ST0_csRybKRh_Jpx4TNtK2yZ7ei'"
   ]
  },
  {
   "cell_type": "code",
   "execution_count": 7,
   "metadata": {},
   "outputs": [],
   "source": [
    "#request GO\n",
    "response_API_go = requests.get(APP_ANDROID_INFO)\n",
    "\n",
    "#request iOS\n",
    "response_API_ios = requests.get(APP_IOS_INFO)"
   ]
  },
  {
   "cell_type": "code",
   "execution_count": 8,
   "metadata": {},
   "outputs": [
    {
     "name": "stdout",
     "output_type": "stream",
     "text": [
      "200\n"
     ]
    }
   ],
   "source": [
    "#test API connection (code 200 means connection is OK)\n",
    "print(response_API_go.status_code)"
   ]
  },
  {
   "cell_type": "code",
   "execution_count": 9,
   "metadata": {},
   "outputs": [
    {
     "name": "stdout",
     "output_type": "stream",
     "text": [
      "200\n"
     ]
    }
   ],
   "source": [
    "#test API connection (code 200 means connection is OK)\n",
    "print(response_API_ios.status_code)"
   ]
  },
  {
   "cell_type": "code",
   "execution_count": 10,
   "metadata": {},
   "outputs": [],
   "source": [
    "go_data=response_API_go.json()\n",
    "\n",
    "go_data_df=pd.DataFrame(go_data[0], index=[0])"
   ]
  },
  {
   "cell_type": "code",
   "execution_count": 11,
   "metadata": {},
   "outputs": [],
   "source": [
    "for i in range(1,len(go_data)):\n",
    "    df=pd.DataFrame(go_data[i], index=[0])\n",
    "    go_data_df=go_data_df.append(df,ignore_index=True)\n",
    "    \n",
    "    \n",
    "go_data_df.columns = ['App_id', 'Country', 'Date', 'Downloads', 'Revenue']"
   ]
  },
  {
   "cell_type": "code",
   "execution_count": 12,
   "metadata": {},
   "outputs": [
    {
     "data": {
      "text/html": [
       "<div>\n",
       "<style scoped>\n",
       "    .dataframe tbody tr th:only-of-type {\n",
       "        vertical-align: middle;\n",
       "    }\n",
       "\n",
       "    .dataframe tbody tr th {\n",
       "        vertical-align: top;\n",
       "    }\n",
       "\n",
       "    .dataframe thead th {\n",
       "        text-align: right;\n",
       "    }\n",
       "</style>\n",
       "<table border=\"1\" class=\"dataframe\">\n",
       "  <thead>\n",
       "    <tr style=\"text-align: right;\">\n",
       "      <th></th>\n",
       "      <th>App_id</th>\n",
       "      <th>Country</th>\n",
       "      <th>Date</th>\n",
       "      <th>Downloads</th>\n",
       "      <th>Revenue</th>\n",
       "    </tr>\n",
       "  </thead>\n",
       "  <tbody>\n",
       "    <tr>\n",
       "      <th>0</th>\n",
       "      <td>com.dreamgames.royalmatch</td>\n",
       "      <td>AE</td>\n",
       "      <td>2023-01-19T00:00:00Z</td>\n",
       "      <td>484</td>\n",
       "      <td>89458.0</td>\n",
       "    </tr>\n",
       "    <tr>\n",
       "      <th>1</th>\n",
       "      <td>com.dreamgames.royalmatch</td>\n",
       "      <td>AO</td>\n",
       "      <td>2023-01-19T00:00:00Z</td>\n",
       "      <td>65</td>\n",
       "      <td>147.0</td>\n",
       "    </tr>\n",
       "    <tr>\n",
       "      <th>2</th>\n",
       "      <td>com.dreamgames.royalmatch</td>\n",
       "      <td>AR</td>\n",
       "      <td>2023-01-19T00:00:00Z</td>\n",
       "      <td>5774</td>\n",
       "      <td>58511.0</td>\n",
       "    </tr>\n",
       "    <tr>\n",
       "      <th>3</th>\n",
       "      <td>com.dreamgames.royalmatch</td>\n",
       "      <td>AT</td>\n",
       "      <td>2023-01-19T00:00:00Z</td>\n",
       "      <td>593</td>\n",
       "      <td>352648.0</td>\n",
       "    </tr>\n",
       "    <tr>\n",
       "      <th>4</th>\n",
       "      <td>com.dreamgames.royalmatch</td>\n",
       "      <td>AU</td>\n",
       "      <td>2023-01-19T00:00:00Z</td>\n",
       "      <td>986</td>\n",
       "      <td>1233451.0</td>\n",
       "    </tr>\n",
       "    <tr>\n",
       "      <th>...</th>\n",
       "      <td>...</td>\n",
       "      <td>...</td>\n",
       "      <td>...</td>\n",
       "      <td>...</td>\n",
       "      <td>...</td>\n",
       "    </tr>\n",
       "    <tr>\n",
       "      <th>743</th>\n",
       "      <td>com.gamegos.mobile.manorcafe</td>\n",
       "      <td>UY</td>\n",
       "      <td>2023-01-22T00:00:00Z</td>\n",
       "      <td>36</td>\n",
       "      <td>241.0</td>\n",
       "    </tr>\n",
       "    <tr>\n",
       "      <th>744</th>\n",
       "      <td>com.gamegos.mobile.manorcafe</td>\n",
       "      <td>UZ</td>\n",
       "      <td>2023-01-22T00:00:00Z</td>\n",
       "      <td>617</td>\n",
       "      <td>112.0</td>\n",
       "    </tr>\n",
       "    <tr>\n",
       "      <th>745</th>\n",
       "      <td>com.gamegos.mobile.manorcafe</td>\n",
       "      <td>VE</td>\n",
       "      <td>2023-01-22T00:00:00Z</td>\n",
       "      <td>386</td>\n",
       "      <td>NaN</td>\n",
       "    </tr>\n",
       "    <tr>\n",
       "      <th>746</th>\n",
       "      <td>com.gamegos.mobile.manorcafe</td>\n",
       "      <td>VN</td>\n",
       "      <td>2023-01-22T00:00:00Z</td>\n",
       "      <td>453</td>\n",
       "      <td>4.0</td>\n",
       "    </tr>\n",
       "    <tr>\n",
       "      <th>747</th>\n",
       "      <td>com.gamegos.mobile.manorcafe</td>\n",
       "      <td>ZA</td>\n",
       "      <td>2023-01-22T00:00:00Z</td>\n",
       "      <td>281</td>\n",
       "      <td>1550.0</td>\n",
       "    </tr>\n",
       "  </tbody>\n",
       "</table>\n",
       "<p>748 rows × 5 columns</p>\n",
       "</div>"
      ],
      "text/plain": [
       "                           App_id Country                  Date  Downloads  \\\n",
       "0       com.dreamgames.royalmatch      AE  2023-01-19T00:00:00Z        484   \n",
       "1       com.dreamgames.royalmatch      AO  2023-01-19T00:00:00Z         65   \n",
       "2       com.dreamgames.royalmatch      AR  2023-01-19T00:00:00Z       5774   \n",
       "3       com.dreamgames.royalmatch      AT  2023-01-19T00:00:00Z        593   \n",
       "4       com.dreamgames.royalmatch      AU  2023-01-19T00:00:00Z        986   \n",
       "..                            ...     ...                   ...        ...   \n",
       "743  com.gamegos.mobile.manorcafe      UY  2023-01-22T00:00:00Z         36   \n",
       "744  com.gamegos.mobile.manorcafe      UZ  2023-01-22T00:00:00Z        617   \n",
       "745  com.gamegos.mobile.manorcafe      VE  2023-01-22T00:00:00Z        386   \n",
       "746  com.gamegos.mobile.manorcafe      VN  2023-01-22T00:00:00Z        453   \n",
       "747  com.gamegos.mobile.manorcafe      ZA  2023-01-22T00:00:00Z        281   \n",
       "\n",
       "       Revenue  \n",
       "0      89458.0  \n",
       "1        147.0  \n",
       "2      58511.0  \n",
       "3     352648.0  \n",
       "4    1233451.0  \n",
       "..         ...  \n",
       "743      241.0  \n",
       "744      112.0  \n",
       "745        NaN  \n",
       "746        4.0  \n",
       "747     1550.0  \n",
       "\n",
       "[748 rows x 5 columns]"
      ]
     },
     "execution_count": 12,
     "metadata": {},
     "output_type": "execute_result"
    }
   ],
   "source": [
    "go_data_df"
   ]
  },
  {
   "cell_type": "code",
   "execution_count": 13,
   "metadata": {},
   "outputs": [],
   "source": [
    "ios_data=response_API_ios.json()\n",
    "\n",
    "ios_data_df=pd.DataFrame(ios_data[0], index=[0])"
   ]
  },
  {
   "cell_type": "code",
   "execution_count": 14,
   "metadata": {},
   "outputs": [],
   "source": [
    "for i in range(1,len(ios_data)):\n",
    "    df=pd.DataFrame(ios_data[i], index=[0])\n",
    "    ios_data_df=ios_data_df.append(df,ignore_index=True)\n",
    "\n",
    "\n",
    "ios_data_df.columns = ['App_id', 'Country', 'Date', 'iPad Downloads', 'iPad Revenue', 'iPhone Downloads', 'iPhone Revenue']"
   ]
  },
  {
   "cell_type": "code",
   "execution_count": 15,
   "metadata": {
    "scrolled": true
   },
   "outputs": [
    {
     "data": {
      "text/html": [
       "<div>\n",
       "<style scoped>\n",
       "    .dataframe tbody tr th:only-of-type {\n",
       "        vertical-align: middle;\n",
       "    }\n",
       "\n",
       "    .dataframe tbody tr th {\n",
       "        vertical-align: top;\n",
       "    }\n",
       "\n",
       "    .dataframe thead th {\n",
       "        text-align: right;\n",
       "    }\n",
       "</style>\n",
       "<table border=\"1\" class=\"dataframe\">\n",
       "  <thead>\n",
       "    <tr style=\"text-align: right;\">\n",
       "      <th></th>\n",
       "      <th>App_id</th>\n",
       "      <th>Country</th>\n",
       "      <th>Date</th>\n",
       "      <th>iPad Downloads</th>\n",
       "      <th>iPad Revenue</th>\n",
       "      <th>iPhone Downloads</th>\n",
       "      <th>iPhone Revenue</th>\n",
       "    </tr>\n",
       "  </thead>\n",
       "  <tbody>\n",
       "    <tr>\n",
       "      <th>0</th>\n",
       "      <td>1195621598</td>\n",
       "      <td>AE</td>\n",
       "      <td>2023-01-19T00:00:00Z</td>\n",
       "      <td>43.0</td>\n",
       "      <td>51925.0</td>\n",
       "      <td>154.0</td>\n",
       "      <td>246678.0</td>\n",
       "    </tr>\n",
       "    <tr>\n",
       "      <th>1</th>\n",
       "      <td>1195621598</td>\n",
       "      <td>AO</td>\n",
       "      <td>2023-01-19T00:00:00Z</td>\n",
       "      <td>2.0</td>\n",
       "      <td>57.0</td>\n",
       "      <td>54.0</td>\n",
       "      <td>502.0</td>\n",
       "    </tr>\n",
       "    <tr>\n",
       "      <th>2</th>\n",
       "      <td>1195621598</td>\n",
       "      <td>AR</td>\n",
       "      <td>2023-01-19T00:00:00Z</td>\n",
       "      <td>21.0</td>\n",
       "      <td>9071.0</td>\n",
       "      <td>284.0</td>\n",
       "      <td>41436.0</td>\n",
       "    </tr>\n",
       "    <tr>\n",
       "      <th>3</th>\n",
       "      <td>1195621598</td>\n",
       "      <td>AT</td>\n",
       "      <td>2023-01-19T00:00:00Z</td>\n",
       "      <td>29.0</td>\n",
       "      <td>208653.0</td>\n",
       "      <td>137.0</td>\n",
       "      <td>465467.0</td>\n",
       "    </tr>\n",
       "    <tr>\n",
       "      <th>4</th>\n",
       "      <td>1195621598</td>\n",
       "      <td>AU</td>\n",
       "      <td>2023-01-19T00:00:00Z</td>\n",
       "      <td>490.0</td>\n",
       "      <td>929803.0</td>\n",
       "      <td>1005.0</td>\n",
       "      <td>1004392.0</td>\n",
       "    </tr>\n",
       "    <tr>\n",
       "      <th>...</th>\n",
       "      <td>...</td>\n",
       "      <td>...</td>\n",
       "      <td>...</td>\n",
       "      <td>...</td>\n",
       "      <td>...</td>\n",
       "      <td>...</td>\n",
       "      <td>...</td>\n",
       "    </tr>\n",
       "    <tr>\n",
       "      <th>1735</th>\n",
       "      <td>1482155847</td>\n",
       "      <td>ZA</td>\n",
       "      <td>2023-01-22T00:00:00Z</td>\n",
       "      <td>11.0</td>\n",
       "      <td>14894.0</td>\n",
       "      <td>365.0</td>\n",
       "      <td>178316.0</td>\n",
       "    </tr>\n",
       "    <tr>\n",
       "      <th>1736</th>\n",
       "      <td>1570403223</td>\n",
       "      <td>CN</td>\n",
       "      <td>2023-01-19T00:00:00Z</td>\n",
       "      <td>1664.0</td>\n",
       "      <td>291225.0</td>\n",
       "      <td>3021.0</td>\n",
       "      <td>2799405.0</td>\n",
       "    </tr>\n",
       "    <tr>\n",
       "      <th>1737</th>\n",
       "      <td>1570403223</td>\n",
       "      <td>CN</td>\n",
       "      <td>2023-01-20T00:00:00Z</td>\n",
       "      <td>1557.0</td>\n",
       "      <td>388582.0</td>\n",
       "      <td>3194.0</td>\n",
       "      <td>3438774.0</td>\n",
       "    </tr>\n",
       "    <tr>\n",
       "      <th>1738</th>\n",
       "      <td>1570403223</td>\n",
       "      <td>CN</td>\n",
       "      <td>2023-01-21T00:00:00Z</td>\n",
       "      <td>1692.0</td>\n",
       "      <td>330874.0</td>\n",
       "      <td>3521.0</td>\n",
       "      <td>2170722.0</td>\n",
       "    </tr>\n",
       "    <tr>\n",
       "      <th>1739</th>\n",
       "      <td>1570403223</td>\n",
       "      <td>CN</td>\n",
       "      <td>2023-01-22T00:00:00Z</td>\n",
       "      <td>1652.0</td>\n",
       "      <td>315061.0</td>\n",
       "      <td>3458.0</td>\n",
       "      <td>2257764.0</td>\n",
       "    </tr>\n",
       "  </tbody>\n",
       "</table>\n",
       "<p>1740 rows × 7 columns</p>\n",
       "</div>"
      ],
      "text/plain": [
       "          App_id Country                  Date  iPad Downloads  iPad Revenue  \\\n",
       "0     1195621598      AE  2023-01-19T00:00:00Z            43.0       51925.0   \n",
       "1     1195621598      AO  2023-01-19T00:00:00Z             2.0          57.0   \n",
       "2     1195621598      AR  2023-01-19T00:00:00Z            21.0        9071.0   \n",
       "3     1195621598      AT  2023-01-19T00:00:00Z            29.0      208653.0   \n",
       "4     1195621598      AU  2023-01-19T00:00:00Z           490.0      929803.0   \n",
       "...          ...     ...                   ...             ...           ...   \n",
       "1735  1482155847      ZA  2023-01-22T00:00:00Z            11.0       14894.0   \n",
       "1736  1570403223      CN  2023-01-19T00:00:00Z          1664.0      291225.0   \n",
       "1737  1570403223      CN  2023-01-20T00:00:00Z          1557.0      388582.0   \n",
       "1738  1570403223      CN  2023-01-21T00:00:00Z          1692.0      330874.0   \n",
       "1739  1570403223      CN  2023-01-22T00:00:00Z          1652.0      315061.0   \n",
       "\n",
       "      iPhone Downloads  iPhone Revenue  \n",
       "0                154.0        246678.0  \n",
       "1                 54.0           502.0  \n",
       "2                284.0         41436.0  \n",
       "3                137.0        465467.0  \n",
       "4               1005.0       1004392.0  \n",
       "...                ...             ...  \n",
       "1735             365.0        178316.0  \n",
       "1736            3021.0       2799405.0  \n",
       "1737            3194.0       3438774.0  \n",
       "1738            3521.0       2170722.0  \n",
       "1739            3458.0       2257764.0  \n",
       "\n",
       "[1740 rows x 7 columns]"
      ]
     },
     "execution_count": 15,
     "metadata": {},
     "output_type": "execute_result"
    }
   ],
   "source": [
    "ios_data_df"
   ]
  },
  {
   "cell_type": "code",
   "execution_count": 16,
   "metadata": {},
   "outputs": [],
   "source": [
    "#google sheets API authorization \n",
    "gc = pygsheets.authorize(service_file='/Users/SMRB1/Documents/28. TicToc Games/st_credentials.json')"
   ]
  },
  {
   "cell_type": "code",
   "execution_count": 17,
   "metadata": {},
   "outputs": [],
   "source": [
    "#open the google spreadsheet (where 'PY to Gsheet Test' is the name of my sheet)\n",
    "sh = gc.open('Sensor Tower Data')\n",
    "\n",
    "#select the first sheet \n",
    "wks = sh[0]\n",
    "\n",
    "#update the first sheet with df, starting at cell B2. \n",
    "wks.set_dataframe(go_data_df,(1,1))"
   ]
  },
  {
   "cell_type": "code",
   "execution_count": 18,
   "metadata": {},
   "outputs": [],
   "source": [
    "#open the google spreadsheet (where 'PY to Gsheet Test' is the name of my sheet)\n",
    "sh = gc.open('Sensor Tower Data')\n",
    "\n",
    "#select the first sheet \n",
    "wks = sh[1]\n",
    "\n",
    "#update the first sheet with df, starting at cell B2. \n",
    "wks.set_dataframe(ios_data_df,(1,1))"
   ]
  },
  {
   "cell_type": "code",
   "execution_count": null,
   "metadata": {},
   "outputs": [],
   "source": []
  }
 ],
 "metadata": {
  "kernelspec": {
   "display_name": "Python 3",
   "language": "python",
   "name": "python3"
  },
  "language_info": {
   "codemirror_mode": {
    "name": "ipython",
    "version": 3
   },
   "file_extension": ".py",
   "mimetype": "text/x-python",
   "name": "python",
   "nbconvert_exporter": "python",
   "pygments_lexer": "ipython3",
   "version": "3.8.3"
  }
 },
 "nbformat": 4,
 "nbformat_minor": 4
}
