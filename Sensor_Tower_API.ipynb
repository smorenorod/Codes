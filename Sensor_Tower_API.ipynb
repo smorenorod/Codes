{
  "cells": [
    {
      "cell_type": "markdown",
      "metadata": {
        "id": "view-in-github",
        "colab_type": "text"
      },
      "source": [
        "<a href=\"https://colab.research.google.com/github/smorenorod/Python-Codes/blob/main/Sensor_Tower_API.ipynb\" target=\"_parent\"><img src=\"https://colab.research.google.com/assets/colab-badge.svg\" alt=\"Open In Colab\"/></a>"
      ]
    },
    {
      "cell_type": "code",
      "execution_count": null,
      "metadata": {
        "id": "WrxB59K3iGPr"
      },
      "outputs": [],
      "source": [
        "#library installing in the case it is needed \n",
        "\n",
        "#!pip install ipywidgets\n",
        "#!pip install pygsheets"
      ]
    },
    {
      "cell_type": "code",
      "execution_count": null,
      "metadata": {
        "id": "JU46Q62LiGPy"
      },
      "outputs": [],
      "source": [
        "import pandas as pd\n",
        "import requests\n",
        "import json\n",
        "import pygsheets\n",
        "import ipywidgets as widgets\n",
        "from datetime import date, timedelta"
      ]
    },
    {
      "cell_type": "code",
      "execution_count": null,
      "metadata": {
        "colab": {
          "base_uri": "https://localhost:8080/",
          "height": 49,
          "referenced_widgets": [
            "350945abea6345a691308c6c1141f5e1",
            "d6922f46e3fc4af2ac630d5b91e663b2",
            "db595375cb2b49c49f2371b74eac4b42"
          ]
        },
        "id": "WZ5jLQ6ciGPz",
        "outputId": "1438bd99-7d2e-429f-f7f6-7c90806f8ca6"
      },
      "outputs": [
        {
          "output_type": "display_data",
          "data": {
            "text/plain": [
              "Text(value='2023-01-23', description='Start Date:', placeholder='Type something')"
            ],
            "application/vnd.jupyter.widget-view+json": {
              "version_major": 2,
              "version_minor": 0,
              "model_id": "350945abea6345a691308c6c1141f5e1"
            }
          },
          "metadata": {}
        }
      ],
      "source": [
        "day_before = date.today() - timedelta(days=2)\n",
        "yeterday = date.today() - timedelta(days=1)\n",
        "\n",
        "start_date=widgets.Text(\n",
        "    value=day_before.strftime(\"%Y-%m-%d\"),\n",
        "    placeholder='Type something',\n",
        "    description='Start Date:',\n",
        "    disabled=False\n",
        ")\n",
        "start_date"
      ]
    },
    {
      "cell_type": "code",
      "execution_count": null,
      "metadata": {
        "colab": {
          "base_uri": "https://localhost:8080/",
          "height": 49,
          "referenced_widgets": [
            "438ddc33cb3847df8dbbbad10ab38b0f",
            "3fa273b88879464495169aaebd2f9352",
            "4d51f58ef3f349c0855a560afaacfe5f"
          ]
        },
        "id": "kCqCqaQuiGP1",
        "outputId": "833c96f6-e901-419e-92f8-b8131a943255"
      },
      "outputs": [
        {
          "output_type": "display_data",
          "data": {
            "text/plain": [
              "Text(value='2023-01-24', description='end_date:', placeholder='Type something')"
            ],
            "application/vnd.jupyter.widget-view+json": {
              "version_major": 2,
              "version_minor": 0,
              "model_id": "438ddc33cb3847df8dbbbad10ab38b0f"
            }
          },
          "metadata": {}
        }
      ],
      "source": [
        "\n",
        "\n",
        "\n",
        "end_date=widgets.Text(\n",
        "    value=yeterday.strftime(\"%Y-%m-%d\"),\n",
        "    placeholder='Type something',\n",
        "    description='end_date:',\n",
        "    disabled=False\n",
        ")\n",
        "end_date"
      ]
    },
    {
      "cell_type": "code",
      "execution_count": null,
      "metadata": {
        "id": "OFssYds7iGP1"
      },
      "outputs": [],
      "source": [
        "#this is fixed for this GO apps codes: com.dreamgames.royalmatch, com.gamegos.mobile.manorcafe,com.matchington.mansion\n",
        "#and for this countries: AE,CAO,CAR,CAT,CAU,CAZ,CBB,CBE,CBG,CBH,CBM,CBO,CBR,CBY,CCA,CCH,CCL,CCO,CCR,CCY,CCZ,CDE,CDK,CDO,CDZ,CEC,CEE,CEG,CES,CFI,CFR,CGB,CGE,CGH,CGR,CGT,CHK,CHR,CHU,CID,CIE,CIL,CIN,CIT,CJP,CKE,CKH,CKR,CKW,CKZ,CLB,CLK,CLT,CLU,CLV,CMG,CMO,CMT,CMX,CMY,CNG,CNI,CNL,CNO,CNZ,COM,CPA,CPE,CPH,CPK,CPL,CPT,CPY,CQA,CRO,CRS,CRU,CSA,CSE,CSG,CSI,CSK,CSV,CTH,CTN,CTR,CTW,CUA,CUS,CUY,CUZ,CVE,CVN,CZA\n",
        "\n",
        "APP_ANDROID_INFO = 'https://api.sensortower.com/v1/android/sales_report_estimates?app_ids=com.dreamgames.royalmatch\\\n",
        "                    %2Ccom.gamegos.mobile.manorcafe%2Ccom.matchington.\\\n",
        "                    mansion&countries=AE%2CAO%2CAR%2CAT%2CAU%2CAZ%2CBB%2CBE%2CBG%2CBH%2CBM%2CBO%2CBR%2CBY%2CCA%2CCH%2CCL%2CCO%2CCR%2CCY%2CCZ%2CDE%2CDK%2CDO%2CDZ%2CEC%2CEE%2CEG%2CES%2CFI%2CFR%2CGB%2CGE%2CGH%2CGR%2CGT%2CHK%2CHR%2CHU%2CID%2CIE%2CIL%2CIN%2CIT%2CJP%2CKE%2CKH%2CKR%2CKW%2CKZ%2CLB%2CLK%2CLT%2CLU%2CLV%2CMG%2CMO%2CMT%2CMX%2CMY%2CNG%2CNI%2CNL%2CNO%2CNZ%2COM%2CPA%2CPE%2CPH%2CPK%2CPL%2CPT%2CPY%2CQA%2CRO%2CRS%2CRU%2CSA%2CSE%2CSG%2CSI%2CSK%2CSV%2CTH%2CTN%2CTR%2CTW%2CUA%2CUS%2CUY%2CUZ%2CVE%2CVN%2CZA&date\\\n",
        "                    _granularity=daily&start_date='+start_date.value+'&end_date='+end_date.value+'&auth_token=ST0_csRybKRh_Jpx4TNtK2yZ7ei'"
      ]
    },
    {
      "cell_type": "code",
      "execution_count": null,
      "metadata": {
        "id": "X3Y2zSULiGP2"
      },
      "outputs": [],
      "source": [
        "#this is fixed for this iOS apps codes: 1195621598,1216575026,1228655110,1358742711,201482155847,201570403223\n",
        "#and for this countries: AE,AO,AR,AT,AU,AZ,BB,BE,BG,BM,BO,BR,BY,CA,CH,CL,CN,CO,CR,CZ,DE,DK,DO,DZ,EC,EE,EG,ES,FI,FR,GB,GH,GR,GT,HK,HR,HU,ID,IE,IL,IN,IT,JP,KE,KH,KR,KW,KZ,LB,LK,LT,LU,LV,MG,MO,MX,MY,NG,NI,NL,NO,NZ,OM,PA,PE,PH,PK,PL,PT,PY,QA,RO,RU,SA,SE,SG,SI,SK,SV,TH,TN,TR,TW,UA,US,UY,UZ,VE,VN,ZA,BH,CY,GE,MT,RS,WW\n",
        "\n",
        "APP_IOS_INFO ='https://api.sensortower.com/v1/ios/sales_report_estimates?app_ids=\\\n",
        "                1195621598%2C1216575026%2C1228655110%2C1358742711%2C%201482155847%2C%201570403223%2C&countries\\\n",
        "                =AE%2CAO%2CAR%2CAT%2CAU%2CAZ%2CBB%2CBE%2CBG%2CBM%2CBO%2CBR%2CBY%2CCA%2CCH%2CCL%2CCN%2CCO%2CCR%2CCZ%2CDE%2CDK%2CDO%2CDZ%2CEC%2CEE%2CEG%2CES%2CFI%2CFR%2CGB%2CGH%2CGR%2CGT%2CHK%2CHR%2CHU%2CID%2CIE%2CIL%2CIN%2CIT%2CJP%2CKE%2CKH%2CKR%2CKW%2CKZ%2CLB%2CLK%2CLT%2CLU%2CLV%2CMG%2CMO%2CMX%2CMY%2CNG%2CNI%2CNL%2CNO%2CNZ%2COM%2CPA%2CPE%2CPH%2CPK%2CPL%2CPT%2CPY%2CQA%2CRO%2CRU%2CSA%2CSE%2CSG%2CSI%2CSK%2CSV%2CTH%2CTN%2CTR%2CTW%2CUA%2CUS%2CUY%2CUZ%2CVE%2CVN%2CZA%2CBH%2CCY%2CGE%2CMT%2CRS%2CWW%2C&date\\\n",
        "                _granularity=daily&start_date='+start_date.value+'&end_date='+end_date.value+'&auth_token=ST0_csRybKRh_Jpx4TNtK2yZ7ei'"
      ]
    },
    {
      "cell_type": "code",
      "execution_count": null,
      "metadata": {
        "id": "lRtIyVOjiGP3"
      },
      "outputs": [],
      "source": [
        "#request GO\n",
        "response_API_go = requests.get(APP_ANDROID_INFO)\n",
        "\n",
        "#request iOS\n",
        "response_API_ios = requests.get(APP_IOS_INFO)"
      ]
    },
    {
      "cell_type": "code",
      "execution_count": null,
      "metadata": {
        "colab": {
          "base_uri": "https://localhost:8080/"
        },
        "id": "jbpZwOo3iGP4",
        "outputId": "744a7252-0d4f-4039-fcb7-f885b99a830f"
      },
      "outputs": [
        {
          "output_type": "stream",
          "name": "stdout",
          "text": [
            "200\n"
          ]
        }
      ],
      "source": [
        "#test API connection (code 200 means connection is OK)\n",
        "print(response_API_go.status_code)"
      ]
    },
    {
      "cell_type": "code",
      "execution_count": null,
      "metadata": {
        "colab": {
          "base_uri": "https://localhost:8080/"
        },
        "id": "rWBQAKrHiGP4",
        "outputId": "0a6fe757-dec0-48d2-f90d-ca14f4e31dfe"
      },
      "outputs": [
        {
          "output_type": "stream",
          "name": "stdout",
          "text": [
            "200\n"
          ]
        }
      ],
      "source": [
        "#test API connection (code 200 means connection is OK)\n",
        "print(response_API_ios.status_code)"
      ]
    },
    {
      "cell_type": "code",
      "execution_count": null,
      "metadata": {
        "id": "LlAkXNL_iGP5"
      },
      "outputs": [],
      "source": [
        "go_data=response_API_go.json()\n",
        "\n",
        "go_data_df=pd.DataFrame(go_data[0], index=[0])"
      ]
    },
    {
      "cell_type": "code",
      "execution_count": null,
      "metadata": {
        "id": "q4ja3TiDiGP5"
      },
      "outputs": [],
      "source": [
        "for i in range(1,len(go_data)):\n",
        "    df=pd.DataFrame(go_data[i], index=[0])\n",
        "    go_data_df=go_data_df.append(df,ignore_index=True)\n",
        "    \n",
        "    \n",
        "go_data_df.columns = ['App_id', 'Country', 'Date', 'Downloads', 'Revenue']"
      ]
    },
    {
      "cell_type": "code",
      "execution_count": null,
      "metadata": {
        "colab": {
          "base_uri": "https://localhost:8080/",
          "height": 424
        },
        "id": "xlBOZmL4iGP5",
        "outputId": "d7cc1eec-492e-413c-85e9-80f5246262b5"
      },
      "outputs": [
        {
          "output_type": "execute_result",
          "data": {
            "text/plain": [
              "                           App_id Country                  Date  Downloads  \\\n",
              "0       com.dreamgames.royalmatch      AE  2023-01-23T00:00:00Z      500.0   \n",
              "1       com.dreamgames.royalmatch      AO  2023-01-23T00:00:00Z       81.0   \n",
              "2       com.dreamgames.royalmatch      AR  2023-01-23T00:00:00Z     5478.0   \n",
              "3       com.dreamgames.royalmatch      AT  2023-01-23T00:00:00Z      580.0   \n",
              "4       com.dreamgames.royalmatch      AU  2023-01-23T00:00:00Z      994.0   \n",
              "..                            ...     ...                   ...        ...   \n",
              "369  com.gamegos.mobile.manorcafe      UY  2023-01-24T00:00:00Z       35.0   \n",
              "370  com.gamegos.mobile.manorcafe      UZ  2023-01-24T00:00:00Z      584.0   \n",
              "371  com.gamegos.mobile.manorcafe      VE  2023-01-24T00:00:00Z      356.0   \n",
              "372  com.gamegos.mobile.manorcafe      VN  2023-01-24T00:00:00Z      439.0   \n",
              "373  com.gamegos.mobile.manorcafe      ZA  2023-01-24T00:00:00Z      223.0   \n",
              "\n",
              "       Revenue  \n",
              "0      56667.0  \n",
              "1        190.0  \n",
              "2      58259.0  \n",
              "3     412318.0  \n",
              "4    1228816.0  \n",
              "..         ...  \n",
              "369      161.0  \n",
              "370       49.0  \n",
              "371        NaN  \n",
              "372        6.0  \n",
              "373     1291.0  \n",
              "\n",
              "[374 rows x 5 columns]"
            ],
            "text/html": [
              "\n",
              "  <div id=\"df-7ba91a7c-5618-4f6f-a7de-2380dd28b1d5\">\n",
              "    <div class=\"colab-df-container\">\n",
              "      <div>\n",
              "<style scoped>\n",
              "    .dataframe tbody tr th:only-of-type {\n",
              "        vertical-align: middle;\n",
              "    }\n",
              "\n",
              "    .dataframe tbody tr th {\n",
              "        vertical-align: top;\n",
              "    }\n",
              "\n",
              "    .dataframe thead th {\n",
              "        text-align: right;\n",
              "    }\n",
              "</style>\n",
              "<table border=\"1\" class=\"dataframe\">\n",
              "  <thead>\n",
              "    <tr style=\"text-align: right;\">\n",
              "      <th></th>\n",
              "      <th>App_id</th>\n",
              "      <th>Country</th>\n",
              "      <th>Date</th>\n",
              "      <th>Downloads</th>\n",
              "      <th>Revenue</th>\n",
              "    </tr>\n",
              "  </thead>\n",
              "  <tbody>\n",
              "    <tr>\n",
              "      <th>0</th>\n",
              "      <td>com.dreamgames.royalmatch</td>\n",
              "      <td>AE</td>\n",
              "      <td>2023-01-23T00:00:00Z</td>\n",
              "      <td>500.0</td>\n",
              "      <td>56667.0</td>\n",
              "    </tr>\n",
              "    <tr>\n",
              "      <th>1</th>\n",
              "      <td>com.dreamgames.royalmatch</td>\n",
              "      <td>AO</td>\n",
              "      <td>2023-01-23T00:00:00Z</td>\n",
              "      <td>81.0</td>\n",
              "      <td>190.0</td>\n",
              "    </tr>\n",
              "    <tr>\n",
              "      <th>2</th>\n",
              "      <td>com.dreamgames.royalmatch</td>\n",
              "      <td>AR</td>\n",
              "      <td>2023-01-23T00:00:00Z</td>\n",
              "      <td>5478.0</td>\n",
              "      <td>58259.0</td>\n",
              "    </tr>\n",
              "    <tr>\n",
              "      <th>3</th>\n",
              "      <td>com.dreamgames.royalmatch</td>\n",
              "      <td>AT</td>\n",
              "      <td>2023-01-23T00:00:00Z</td>\n",
              "      <td>580.0</td>\n",
              "      <td>412318.0</td>\n",
              "    </tr>\n",
              "    <tr>\n",
              "      <th>4</th>\n",
              "      <td>com.dreamgames.royalmatch</td>\n",
              "      <td>AU</td>\n",
              "      <td>2023-01-23T00:00:00Z</td>\n",
              "      <td>994.0</td>\n",
              "      <td>1228816.0</td>\n",
              "    </tr>\n",
              "    <tr>\n",
              "      <th>...</th>\n",
              "      <td>...</td>\n",
              "      <td>...</td>\n",
              "      <td>...</td>\n",
              "      <td>...</td>\n",
              "      <td>...</td>\n",
              "    </tr>\n",
              "    <tr>\n",
              "      <th>369</th>\n",
              "      <td>com.gamegos.mobile.manorcafe</td>\n",
              "      <td>UY</td>\n",
              "      <td>2023-01-24T00:00:00Z</td>\n",
              "      <td>35.0</td>\n",
              "      <td>161.0</td>\n",
              "    </tr>\n",
              "    <tr>\n",
              "      <th>370</th>\n",
              "      <td>com.gamegos.mobile.manorcafe</td>\n",
              "      <td>UZ</td>\n",
              "      <td>2023-01-24T00:00:00Z</td>\n",
              "      <td>584.0</td>\n",
              "      <td>49.0</td>\n",
              "    </tr>\n",
              "    <tr>\n",
              "      <th>371</th>\n",
              "      <td>com.gamegos.mobile.manorcafe</td>\n",
              "      <td>VE</td>\n",
              "      <td>2023-01-24T00:00:00Z</td>\n",
              "      <td>356.0</td>\n",
              "      <td>NaN</td>\n",
              "    </tr>\n",
              "    <tr>\n",
              "      <th>372</th>\n",
              "      <td>com.gamegos.mobile.manorcafe</td>\n",
              "      <td>VN</td>\n",
              "      <td>2023-01-24T00:00:00Z</td>\n",
              "      <td>439.0</td>\n",
              "      <td>6.0</td>\n",
              "    </tr>\n",
              "    <tr>\n",
              "      <th>373</th>\n",
              "      <td>com.gamegos.mobile.manorcafe</td>\n",
              "      <td>ZA</td>\n",
              "      <td>2023-01-24T00:00:00Z</td>\n",
              "      <td>223.0</td>\n",
              "      <td>1291.0</td>\n",
              "    </tr>\n",
              "  </tbody>\n",
              "</table>\n",
              "<p>374 rows × 5 columns</p>\n",
              "</div>\n",
              "      <button class=\"colab-df-convert\" onclick=\"convertToInteractive('df-7ba91a7c-5618-4f6f-a7de-2380dd28b1d5')\"\n",
              "              title=\"Convert this dataframe to an interactive table.\"\n",
              "              style=\"display:none;\">\n",
              "        \n",
              "  <svg xmlns=\"http://www.w3.org/2000/svg\" height=\"24px\"viewBox=\"0 0 24 24\"\n",
              "       width=\"24px\">\n",
              "    <path d=\"M0 0h24v24H0V0z\" fill=\"none\"/>\n",
              "    <path d=\"M18.56 5.44l.94 2.06.94-2.06 2.06-.94-2.06-.94-.94-2.06-.94 2.06-2.06.94zm-11 1L8.5 8.5l.94-2.06 2.06-.94-2.06-.94L8.5 2.5l-.94 2.06-2.06.94zm10 10l.94 2.06.94-2.06 2.06-.94-2.06-.94-.94-2.06-.94 2.06-2.06.94z\"/><path d=\"M17.41 7.96l-1.37-1.37c-.4-.4-.92-.59-1.43-.59-.52 0-1.04.2-1.43.59L10.3 9.45l-7.72 7.72c-.78.78-.78 2.05 0 2.83L4 21.41c.39.39.9.59 1.41.59.51 0 1.02-.2 1.41-.59l7.78-7.78 2.81-2.81c.8-.78.8-2.07 0-2.86zM5.41 20L4 18.59l7.72-7.72 1.47 1.35L5.41 20z\"/>\n",
              "  </svg>\n",
              "      </button>\n",
              "      \n",
              "  <style>\n",
              "    .colab-df-container {\n",
              "      display:flex;\n",
              "      flex-wrap:wrap;\n",
              "      gap: 12px;\n",
              "    }\n",
              "\n",
              "    .colab-df-convert {\n",
              "      background-color: #E8F0FE;\n",
              "      border: none;\n",
              "      border-radius: 50%;\n",
              "      cursor: pointer;\n",
              "      display: none;\n",
              "      fill: #1967D2;\n",
              "      height: 32px;\n",
              "      padding: 0 0 0 0;\n",
              "      width: 32px;\n",
              "    }\n",
              "\n",
              "    .colab-df-convert:hover {\n",
              "      background-color: #E2EBFA;\n",
              "      box-shadow: 0px 1px 2px rgba(60, 64, 67, 0.3), 0px 1px 3px 1px rgba(60, 64, 67, 0.15);\n",
              "      fill: #174EA6;\n",
              "    }\n",
              "\n",
              "    [theme=dark] .colab-df-convert {\n",
              "      background-color: #3B4455;\n",
              "      fill: #D2E3FC;\n",
              "    }\n",
              "\n",
              "    [theme=dark] .colab-df-convert:hover {\n",
              "      background-color: #434B5C;\n",
              "      box-shadow: 0px 1px 3px 1px rgba(0, 0, 0, 0.15);\n",
              "      filter: drop-shadow(0px 1px 2px rgba(0, 0, 0, 0.3));\n",
              "      fill: #FFFFFF;\n",
              "    }\n",
              "  </style>\n",
              "\n",
              "      <script>\n",
              "        const buttonEl =\n",
              "          document.querySelector('#df-7ba91a7c-5618-4f6f-a7de-2380dd28b1d5 button.colab-df-convert');\n",
              "        buttonEl.style.display =\n",
              "          google.colab.kernel.accessAllowed ? 'block' : 'none';\n",
              "\n",
              "        async function convertToInteractive(key) {\n",
              "          const element = document.querySelector('#df-7ba91a7c-5618-4f6f-a7de-2380dd28b1d5');\n",
              "          const dataTable =\n",
              "            await google.colab.kernel.invokeFunction('convertToInteractive',\n",
              "                                                     [key], {});\n",
              "          if (!dataTable) return;\n",
              "\n",
              "          const docLinkHtml = 'Like what you see? Visit the ' +\n",
              "            '<a target=\"_blank\" href=https://colab.research.google.com/notebooks/data_table.ipynb>data table notebook</a>'\n",
              "            + ' to learn more about interactive tables.';\n",
              "          element.innerHTML = '';\n",
              "          dataTable['output_type'] = 'display_data';\n",
              "          await google.colab.output.renderOutput(dataTable, element);\n",
              "          const docLink = document.createElement('div');\n",
              "          docLink.innerHTML = docLinkHtml;\n",
              "          element.appendChild(docLink);\n",
              "        }\n",
              "      </script>\n",
              "    </div>\n",
              "  </div>\n",
              "  "
            ]
          },
          "metadata": {},
          "execution_count": 14
        }
      ],
      "source": [
        "go_data_df"
      ]
    },
    {
      "cell_type": "code",
      "execution_count": null,
      "metadata": {
        "id": "wTkh3UEeiGP6"
      },
      "outputs": [],
      "source": [
        "ios_data=response_API_ios.json()\n",
        "\n",
        "ios_data_df=pd.DataFrame(ios_data[0], index=[0])"
      ]
    },
    {
      "cell_type": "code",
      "execution_count": null,
      "metadata": {
        "id": "ZccSWUENiGP6"
      },
      "outputs": [],
      "source": [
        "for i in range(1,len(ios_data)):\n",
        "    df=pd.DataFrame(ios_data[i], index=[0])\n",
        "    ios_data_df=ios_data_df.append(df,ignore_index=True)\n",
        "\n",
        "\n",
        "ios_data_df.columns = ['App_id', 'Country', 'Date', 'iPad Downloads', 'iPad Revenue', 'iPhone Downloads', 'iPhone Revenue']"
      ]
    },
    {
      "cell_type": "code",
      "execution_count": null,
      "metadata": {
        "scrolled": true,
        "colab": {
          "base_uri": "https://localhost:8080/",
          "height": 424
        },
        "id": "YfWjv1Z_iGP6",
        "outputId": "691b07b1-6d57-4ca8-e5cf-50e19114ae54"
      },
      "outputs": [
        {
          "output_type": "execute_result",
          "data": {
            "text/plain": [
              "         App_id Country                  Date  iPad Downloads  iPad Revenue  \\\n",
              "0    1195621598      AE  2023-01-23T00:00:00Z            45.0       25380.0   \n",
              "1    1195621598      AO  2023-01-23T00:00:00Z             4.0          44.0   \n",
              "2    1195621598      AR  2023-01-23T00:00:00Z            29.0       15029.0   \n",
              "3    1195621598      AT  2023-01-23T00:00:00Z            30.0      242985.0   \n",
              "4    1195621598      AU  2023-01-23T00:00:00Z           489.0     1319233.0   \n",
              "..          ...     ...                   ...             ...           ...   \n",
              "854  1482155847      VE  2023-01-24T00:00:00Z             1.0           NaN   \n",
              "855  1482155847      VN  2023-01-24T00:00:00Z            47.0        5730.0   \n",
              "856  1482155847      ZA  2023-01-24T00:00:00Z            19.0       11673.0   \n",
              "857  1570403223      CN  2023-01-23T00:00:00Z          1915.0      353806.0   \n",
              "858  1570403223      CN  2023-01-24T00:00:00Z          1860.0      363870.0   \n",
              "\n",
              "     iPhone Downloads  iPhone Revenue  \n",
              "0               153.0        243321.0  \n",
              "1                38.0          1136.0  \n",
              "2               357.0         49013.0  \n",
              "3               176.0        660074.0  \n",
              "4              1096.0       1413935.0  \n",
              "..                ...             ...  \n",
              "854              99.0             2.0  \n",
              "855            3945.0         35832.0  \n",
              "856             323.0        150657.0  \n",
              "857            3800.0       2078575.0  \n",
              "858            3867.0       2569884.0  \n",
              "\n",
              "[859 rows x 7 columns]"
            ],
            "text/html": [
              "\n",
              "  <div id=\"df-0a35824e-b700-40a8-bb61-e22373b41866\">\n",
              "    <div class=\"colab-df-container\">\n",
              "      <div>\n",
              "<style scoped>\n",
              "    .dataframe tbody tr th:only-of-type {\n",
              "        vertical-align: middle;\n",
              "    }\n",
              "\n",
              "    .dataframe tbody tr th {\n",
              "        vertical-align: top;\n",
              "    }\n",
              "\n",
              "    .dataframe thead th {\n",
              "        text-align: right;\n",
              "    }\n",
              "</style>\n",
              "<table border=\"1\" class=\"dataframe\">\n",
              "  <thead>\n",
              "    <tr style=\"text-align: right;\">\n",
              "      <th></th>\n",
              "      <th>App_id</th>\n",
              "      <th>Country</th>\n",
              "      <th>Date</th>\n",
              "      <th>iPad Downloads</th>\n",
              "      <th>iPad Revenue</th>\n",
              "      <th>iPhone Downloads</th>\n",
              "      <th>iPhone Revenue</th>\n",
              "    </tr>\n",
              "  </thead>\n",
              "  <tbody>\n",
              "    <tr>\n",
              "      <th>0</th>\n",
              "      <td>1195621598</td>\n",
              "      <td>AE</td>\n",
              "      <td>2023-01-23T00:00:00Z</td>\n",
              "      <td>45.0</td>\n",
              "      <td>25380.0</td>\n",
              "      <td>153.0</td>\n",
              "      <td>243321.0</td>\n",
              "    </tr>\n",
              "    <tr>\n",
              "      <th>1</th>\n",
              "      <td>1195621598</td>\n",
              "      <td>AO</td>\n",
              "      <td>2023-01-23T00:00:00Z</td>\n",
              "      <td>4.0</td>\n",
              "      <td>44.0</td>\n",
              "      <td>38.0</td>\n",
              "      <td>1136.0</td>\n",
              "    </tr>\n",
              "    <tr>\n",
              "      <th>2</th>\n",
              "      <td>1195621598</td>\n",
              "      <td>AR</td>\n",
              "      <td>2023-01-23T00:00:00Z</td>\n",
              "      <td>29.0</td>\n",
              "      <td>15029.0</td>\n",
              "      <td>357.0</td>\n",
              "      <td>49013.0</td>\n",
              "    </tr>\n",
              "    <tr>\n",
              "      <th>3</th>\n",
              "      <td>1195621598</td>\n",
              "      <td>AT</td>\n",
              "      <td>2023-01-23T00:00:00Z</td>\n",
              "      <td>30.0</td>\n",
              "      <td>242985.0</td>\n",
              "      <td>176.0</td>\n",
              "      <td>660074.0</td>\n",
              "    </tr>\n",
              "    <tr>\n",
              "      <th>4</th>\n",
              "      <td>1195621598</td>\n",
              "      <td>AU</td>\n",
              "      <td>2023-01-23T00:00:00Z</td>\n",
              "      <td>489.0</td>\n",
              "      <td>1319233.0</td>\n",
              "      <td>1096.0</td>\n",
              "      <td>1413935.0</td>\n",
              "    </tr>\n",
              "    <tr>\n",
              "      <th>...</th>\n",
              "      <td>...</td>\n",
              "      <td>...</td>\n",
              "      <td>...</td>\n",
              "      <td>...</td>\n",
              "      <td>...</td>\n",
              "      <td>...</td>\n",
              "      <td>...</td>\n",
              "    </tr>\n",
              "    <tr>\n",
              "      <th>854</th>\n",
              "      <td>1482155847</td>\n",
              "      <td>VE</td>\n",
              "      <td>2023-01-24T00:00:00Z</td>\n",
              "      <td>1.0</td>\n",
              "      <td>NaN</td>\n",
              "      <td>99.0</td>\n",
              "      <td>2.0</td>\n",
              "    </tr>\n",
              "    <tr>\n",
              "      <th>855</th>\n",
              "      <td>1482155847</td>\n",
              "      <td>VN</td>\n",
              "      <td>2023-01-24T00:00:00Z</td>\n",
              "      <td>47.0</td>\n",
              "      <td>5730.0</td>\n",
              "      <td>3945.0</td>\n",
              "      <td>35832.0</td>\n",
              "    </tr>\n",
              "    <tr>\n",
              "      <th>856</th>\n",
              "      <td>1482155847</td>\n",
              "      <td>ZA</td>\n",
              "      <td>2023-01-24T00:00:00Z</td>\n",
              "      <td>19.0</td>\n",
              "      <td>11673.0</td>\n",
              "      <td>323.0</td>\n",
              "      <td>150657.0</td>\n",
              "    </tr>\n",
              "    <tr>\n",
              "      <th>857</th>\n",
              "      <td>1570403223</td>\n",
              "      <td>CN</td>\n",
              "      <td>2023-01-23T00:00:00Z</td>\n",
              "      <td>1915.0</td>\n",
              "      <td>353806.0</td>\n",
              "      <td>3800.0</td>\n",
              "      <td>2078575.0</td>\n",
              "    </tr>\n",
              "    <tr>\n",
              "      <th>858</th>\n",
              "      <td>1570403223</td>\n",
              "      <td>CN</td>\n",
              "      <td>2023-01-24T00:00:00Z</td>\n",
              "      <td>1860.0</td>\n",
              "      <td>363870.0</td>\n",
              "      <td>3867.0</td>\n",
              "      <td>2569884.0</td>\n",
              "    </tr>\n",
              "  </tbody>\n",
              "</table>\n",
              "<p>859 rows × 7 columns</p>\n",
              "</div>\n",
              "      <button class=\"colab-df-convert\" onclick=\"convertToInteractive('df-0a35824e-b700-40a8-bb61-e22373b41866')\"\n",
              "              title=\"Convert this dataframe to an interactive table.\"\n",
              "              style=\"display:none;\">\n",
              "        \n",
              "  <svg xmlns=\"http://www.w3.org/2000/svg\" height=\"24px\"viewBox=\"0 0 24 24\"\n",
              "       width=\"24px\">\n",
              "    <path d=\"M0 0h24v24H0V0z\" fill=\"none\"/>\n",
              "    <path d=\"M18.56 5.44l.94 2.06.94-2.06 2.06-.94-2.06-.94-.94-2.06-.94 2.06-2.06.94zm-11 1L8.5 8.5l.94-2.06 2.06-.94-2.06-.94L8.5 2.5l-.94 2.06-2.06.94zm10 10l.94 2.06.94-2.06 2.06-.94-2.06-.94-.94-2.06-.94 2.06-2.06.94z\"/><path d=\"M17.41 7.96l-1.37-1.37c-.4-.4-.92-.59-1.43-.59-.52 0-1.04.2-1.43.59L10.3 9.45l-7.72 7.72c-.78.78-.78 2.05 0 2.83L4 21.41c.39.39.9.59 1.41.59.51 0 1.02-.2 1.41-.59l7.78-7.78 2.81-2.81c.8-.78.8-2.07 0-2.86zM5.41 20L4 18.59l7.72-7.72 1.47 1.35L5.41 20z\"/>\n",
              "  </svg>\n",
              "      </button>\n",
              "      \n",
              "  <style>\n",
              "    .colab-df-container {\n",
              "      display:flex;\n",
              "      flex-wrap:wrap;\n",
              "      gap: 12px;\n",
              "    }\n",
              "\n",
              "    .colab-df-convert {\n",
              "      background-color: #E8F0FE;\n",
              "      border: none;\n",
              "      border-radius: 50%;\n",
              "      cursor: pointer;\n",
              "      display: none;\n",
              "      fill: #1967D2;\n",
              "      height: 32px;\n",
              "      padding: 0 0 0 0;\n",
              "      width: 32px;\n",
              "    }\n",
              "\n",
              "    .colab-df-convert:hover {\n",
              "      background-color: #E2EBFA;\n",
              "      box-shadow: 0px 1px 2px rgba(60, 64, 67, 0.3), 0px 1px 3px 1px rgba(60, 64, 67, 0.15);\n",
              "      fill: #174EA6;\n",
              "    }\n",
              "\n",
              "    [theme=dark] .colab-df-convert {\n",
              "      background-color: #3B4455;\n",
              "      fill: #D2E3FC;\n",
              "    }\n",
              "\n",
              "    [theme=dark] .colab-df-convert:hover {\n",
              "      background-color: #434B5C;\n",
              "      box-shadow: 0px 1px 3px 1px rgba(0, 0, 0, 0.15);\n",
              "      filter: drop-shadow(0px 1px 2px rgba(0, 0, 0, 0.3));\n",
              "      fill: #FFFFFF;\n",
              "    }\n",
              "  </style>\n",
              "\n",
              "      <script>\n",
              "        const buttonEl =\n",
              "          document.querySelector('#df-0a35824e-b700-40a8-bb61-e22373b41866 button.colab-df-convert');\n",
              "        buttonEl.style.display =\n",
              "          google.colab.kernel.accessAllowed ? 'block' : 'none';\n",
              "\n",
              "        async function convertToInteractive(key) {\n",
              "          const element = document.querySelector('#df-0a35824e-b700-40a8-bb61-e22373b41866');\n",
              "          const dataTable =\n",
              "            await google.colab.kernel.invokeFunction('convertToInteractive',\n",
              "                                                     [key], {});\n",
              "          if (!dataTable) return;\n",
              "\n",
              "          const docLinkHtml = 'Like what you see? Visit the ' +\n",
              "            '<a target=\"_blank\" href=https://colab.research.google.com/notebooks/data_table.ipynb>data table notebook</a>'\n",
              "            + ' to learn more about interactive tables.';\n",
              "          element.innerHTML = '';\n",
              "          dataTable['output_type'] = 'display_data';\n",
              "          await google.colab.output.renderOutput(dataTable, element);\n",
              "          const docLink = document.createElement('div');\n",
              "          docLink.innerHTML = docLinkHtml;\n",
              "          element.appendChild(docLink);\n",
              "        }\n",
              "      </script>\n",
              "    </div>\n",
              "  </div>\n",
              "  "
            ]
          },
          "metadata": {},
          "execution_count": 17
        }
      ],
      "source": [
        "ios_data_df"
      ]
    },
    {
      "cell_type": "code",
      "execution_count": null,
      "metadata": {
        "id": "7skdxr6QiGP6"
      },
      "outputs": [],
      "source": [
        "#google sheets API authorization \n",
        "gc = pygsheets.authorize(service_file='/content/st_credentials.json')"
      ]
    },
    {
      "cell_type": "markdown",
      "source": [
        "# Nueva sección"
      ],
      "metadata": {
        "id": "R364EDWSs4MB"
      }
    },
    {
      "cell_type": "code",
      "execution_count": null,
      "metadata": {
        "id": "R5NI4w7niGP6"
      },
      "outputs": [],
      "source": [
        "#open the google spreadsheet (where 'Sensor Tower Data'' is the name of my sheet)\n",
        "sh = gc.open('Sensor Tower Data')\n",
        "\n",
        "#select the first sheet \n",
        "wks = sh[0]\n",
        "\n",
        "#clear old data\n",
        "wks.clear(start='A2', end=None, fields='*')\n",
        "\n",
        "#update the first sheet with df, starting at cell A2. \n",
        "wks.set_dataframe(go_data_df,(1,1))"
      ]
    },
    {
      "cell_type": "code",
      "execution_count": null,
      "metadata": {
        "id": "999mY7wCiGP7"
      },
      "outputs": [],
      "source": [
        "#open the google spreadsheet (where 'Sensor Tower Data' is the name of my sheet)\n",
        "sh = gc.open('Sensor Tower Data')\n",
        "\n",
        "#select the second sheet \n",
        "wks = sh[1]\n",
        "\n",
        "#clear old data\n",
        "wks.clear(start='A2', end=None, fields='*')\n",
        "\n",
        "#update the second sheet with df, starting at cell A2. \n",
        "wks.set_dataframe(ios_data_df,(1,1))"
      ]
    }
  ],
  "metadata": {
    "kernelspec": {
      "display_name": "Python 3",
      "language": "python",
      "name": "python3"
    },
    "language_info": {
      "codemirror_mode": {
        "name": "ipython",
        "version": 3
      },
      "file_extension": ".py",
      "mimetype": "text/x-python",
      "name": "python",
      "nbconvert_exporter": "python",
      "pygments_lexer": "ipython3",
      "version": "3.8.3"
    },
    "colab": {
      "provenance": [],
      "include_colab_link": true
    },
    "widgets": {
      "application/vnd.jupyter.widget-state+json": {
        "350945abea6345a691308c6c1141f5e1": {
          "model_module": "@jupyter-widgets/controls",
          "model_name": "TextModel",
          "model_module_version": "1.5.0",
          "state": {
            "_dom_classes": [],
            "_model_module": "@jupyter-widgets/controls",
            "_model_module_version": "1.5.0",
            "_model_name": "TextModel",
            "_view_count": null,
            "_view_module": "@jupyter-widgets/controls",
            "_view_module_version": "1.5.0",
            "_view_name": "TextView",
            "continuous_update": true,
            "description": "Start Date:",
            "description_tooltip": null,
            "disabled": false,
            "layout": "IPY_MODEL_d6922f46e3fc4af2ac630d5b91e663b2",
            "placeholder": "Type something",
            "style": "IPY_MODEL_db595375cb2b49c49f2371b74eac4b42",
            "value": "2023-01-23"
          }
        },
        "d6922f46e3fc4af2ac630d5b91e663b2": {
          "model_module": "@jupyter-widgets/base",
          "model_name": "LayoutModel",
          "model_module_version": "1.2.0",
          "state": {
            "_model_module": "@jupyter-widgets/base",
            "_model_module_version": "1.2.0",
            "_model_name": "LayoutModel",
            "_view_count": null,
            "_view_module": "@jupyter-widgets/base",
            "_view_module_version": "1.2.0",
            "_view_name": "LayoutView",
            "align_content": null,
            "align_items": null,
            "align_self": null,
            "border": null,
            "bottom": null,
            "display": null,
            "flex": null,
            "flex_flow": null,
            "grid_area": null,
            "grid_auto_columns": null,
            "grid_auto_flow": null,
            "grid_auto_rows": null,
            "grid_column": null,
            "grid_gap": null,
            "grid_row": null,
            "grid_template_areas": null,
            "grid_template_columns": null,
            "grid_template_rows": null,
            "height": null,
            "justify_content": null,
            "justify_items": null,
            "left": null,
            "margin": null,
            "max_height": null,
            "max_width": null,
            "min_height": null,
            "min_width": null,
            "object_fit": null,
            "object_position": null,
            "order": null,
            "overflow": null,
            "overflow_x": null,
            "overflow_y": null,
            "padding": null,
            "right": null,
            "top": null,
            "visibility": null,
            "width": null
          }
        },
        "db595375cb2b49c49f2371b74eac4b42": {
          "model_module": "@jupyter-widgets/controls",
          "model_name": "DescriptionStyleModel",
          "model_module_version": "1.5.0",
          "state": {
            "_model_module": "@jupyter-widgets/controls",
            "_model_module_version": "1.5.0",
            "_model_name": "DescriptionStyleModel",
            "_view_count": null,
            "_view_module": "@jupyter-widgets/base",
            "_view_module_version": "1.2.0",
            "_view_name": "StyleView",
            "description_width": ""
          }
        },
        "438ddc33cb3847df8dbbbad10ab38b0f": {
          "model_module": "@jupyter-widgets/controls",
          "model_name": "TextModel",
          "model_module_version": "1.5.0",
          "state": {
            "_dom_classes": [],
            "_model_module": "@jupyter-widgets/controls",
            "_model_module_version": "1.5.0",
            "_model_name": "TextModel",
            "_view_count": null,
            "_view_module": "@jupyter-widgets/controls",
            "_view_module_version": "1.5.0",
            "_view_name": "TextView",
            "continuous_update": true,
            "description": "end_date:",
            "description_tooltip": null,
            "disabled": false,
            "layout": "IPY_MODEL_3fa273b88879464495169aaebd2f9352",
            "placeholder": "Type something",
            "style": "IPY_MODEL_4d51f58ef3f349c0855a560afaacfe5f",
            "value": "2023-01-24"
          }
        },
        "3fa273b88879464495169aaebd2f9352": {
          "model_module": "@jupyter-widgets/base",
          "model_name": "LayoutModel",
          "model_module_version": "1.2.0",
          "state": {
            "_model_module": "@jupyter-widgets/base",
            "_model_module_version": "1.2.0",
            "_model_name": "LayoutModel",
            "_view_count": null,
            "_view_module": "@jupyter-widgets/base",
            "_view_module_version": "1.2.0",
            "_view_name": "LayoutView",
            "align_content": null,
            "align_items": null,
            "align_self": null,
            "border": null,
            "bottom": null,
            "display": null,
            "flex": null,
            "flex_flow": null,
            "grid_area": null,
            "grid_auto_columns": null,
            "grid_auto_flow": null,
            "grid_auto_rows": null,
            "grid_column": null,
            "grid_gap": null,
            "grid_row": null,
            "grid_template_areas": null,
            "grid_template_columns": null,
            "grid_template_rows": null,
            "height": null,
            "justify_content": null,
            "justify_items": null,
            "left": null,
            "margin": null,
            "max_height": null,
            "max_width": null,
            "min_height": null,
            "min_width": null,
            "object_fit": null,
            "object_position": null,
            "order": null,
            "overflow": null,
            "overflow_x": null,
            "overflow_y": null,
            "padding": null,
            "right": null,
            "top": null,
            "visibility": null,
            "width": null
          }
        },
        "4d51f58ef3f349c0855a560afaacfe5f": {
          "model_module": "@jupyter-widgets/controls",
          "model_name": "DescriptionStyleModel",
          "model_module_version": "1.5.0",
          "state": {
            "_model_module": "@jupyter-widgets/controls",
            "_model_module_version": "1.5.0",
            "_model_name": "DescriptionStyleModel",
            "_view_count": null,
            "_view_module": "@jupyter-widgets/base",
            "_view_module_version": "1.2.0",
            "_view_name": "StyleView",
            "description_width": ""
          }
        }
      }
    }
  },
  "nbformat": 4,
  "nbformat_minor": 0
}